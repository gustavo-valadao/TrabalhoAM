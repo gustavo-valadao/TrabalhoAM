{
 "cells": [
  {
   "cell_type": "markdown",
   "id": "41cd8c9d",
   "metadata": {},
   "source": [
    "Remover os registros que tem a educação dos pais vazios."
   ]
  },
  {
   "cell_type": "code",
   "execution_count": null,
   "id": "9ea785e7",
   "metadata": {},
   "outputs": [],
   "source": [
    "\n",
    "quantidade_antes = len(df['Parent_Education_Level'])\n",
    "\n",
    "\n",
    "df = df.dropna(subset=['Parent_Education_Level'])\n",
    "\n",
    "\n",
    "quantidade_depois = len(df['Parent_Education_Level'])\n",
    "\n",
    "print(f\"Quantidade de valores antes da limpeza: {quantidade_antes}\")\n",
    "print(f\"Quantidade de valores depois da limpeza: {quantidade_depois}\")\n"
   ]
  },
  {
   "cell_type": "markdown",
   "id": "ad6ade40",
   "metadata": {},
   "source": [
    "Alterar os dados de presença (Attendance) que estão null para a mediana.\n",
    "\n",
    "Apresentar o somatório de Attendance."
   ]
  },
  {
   "cell_type": "code",
   "execution_count": null,
   "id": "3aafa1e6",
   "metadata": {},
   "outputs": [],
   "source": [
    "quantidade_nulos = df['Attendance (%)'].isna().sum()\n",
    "print(f\"Quantidade de valores nulos na coluna 'Attendance': {quantidade_nulos}\\n\")\n",
    "print(\"Não foi possível alterar os dados de presença pois não há registros null.\\n\")\n",
    "\n",
    "mediana_attendance = df['Attendance (%)'].median()\n",
    "print(f\"A mediana da coluna 'Attendance' é: {mediana_attendance}\\n\")\n",
    "\n",
    "print(f\"O somatório da coluna 'Attendance' é: {df['Attendance (%)'].sum():.2f}\\n\")\n"
   ]
  }
 ],
 "metadata": {
  "language_info": {
   "name": "python"
  }
 },
 "nbformat": 4,
 "nbformat_minor": 5
}
